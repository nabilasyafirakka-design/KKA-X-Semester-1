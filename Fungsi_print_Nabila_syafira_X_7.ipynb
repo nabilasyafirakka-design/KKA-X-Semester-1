{
  "nbformat": 4,
  "nbformat_minor": 0,
  "metadata": {
    "colab": {
      "provenance": [],
      "authorship_tag": "ABX9TyOsyCerV1MLuS43pnGvU63E",
      "include_colab_link": true
    },
    "kernelspec": {
      "name": "python3",
      "display_name": "Python 3"
    },
    "language_info": {
      "name": "python"
    }
  },
  "cells": [
    {
      "cell_type": "markdown",
      "metadata": {
        "id": "view-in-github",
        "colab_type": "text"
      },
      "source": [
        "<a href=\"https://colab.research.google.com/github/nabilasyafirakka-design/KKA-X-Semester-1/blob/main/Fungsi_print_Nabila_syafira_X_7.ipynb\" target=\"_parent\"><img src=\"https://colab.research.google.com/assets/colab-badge.svg\" alt=\"Open In Colab\"/></a>"
      ]
    },
    {
      "cell_type": "markdown",
      "source": [
        "#Nama: Nabila Syafira\n",
        "Kelas: X-7\n",
        "Mapel: Kode & Kecerdasan Artifisial (KKA)"
      ],
      "metadata": {
        "id": "-g32CEj7Rg0x"
      }
    },
    {
      "cell_type": "code",
      "source": [
        "print (\"Hello world \")"
      ],
      "metadata": {
        "colab": {
          "base_uri": "https://localhost:8080/"
        },
        "id": "USHSPHZTRy75",
        "outputId": "9ad878cd-34df-493b-ad93-4e3294ab4085"
      },
      "execution_count": null,
      "outputs": [
        {
          "output_type": "stream",
          "name": "stdout",
          "text": [
            "Hello world \n"
          ]
        }
      ]
    },
    {
      "cell_type": "code",
      "source": [
        "print (\"Belajar Python itu menyenangkan \")"
      ],
      "metadata": {
        "colab": {
          "base_uri": "https://localhost:8080/"
        },
        "id": "EyDyGLbiWlKh",
        "outputId": "266ea6da-f629-4e39-c6cc-ebaa00cfabf4"
      },
      "execution_count": null,
      "outputs": [
        {
          "output_type": "stream",
          "name": "stdout",
          "text": [
            "Belajar Python itu menyenangkan \n"
          ]
        }
      ]
    },
    {
      "cell_type": "code",
      "source": [
        "nama = \"Nabila Syafira\"\n",
        "print(nama)"
      ],
      "metadata": {
        "colab": {
          "base_uri": "https://localhost:8080/"
        },
        "id": "0tGBnO5cWsso",
        "outputId": "f7d58ccb-e198-4bb9-c26e-9702e196e82b"
      },
      "execution_count": null,
      "outputs": [
        {
          "output_type": "stream",
          "name": "stdout",
          "text": [
            "Nabila Syafira\n"
          ]
        }
      ]
    },
    {
      "cell_type": "code",
      "source": [
        "umur = 14\n",
        "print (f\"umur saya {umur} tahun\")"
      ],
      "metadata": {
        "colab": {
          "base_uri": "https://localhost:8080/"
        },
        "id": "hruT_t_dW23I",
        "outputId": "35a7999c-fe3a-4edc-e896-0d9827d5f85d"
      },
      "execution_count": null,
      "outputs": [
        {
          "output_type": "stream",
          "name": "stdout",
          "text": [
            "umur saya 14 tahun\n"
          ]
        }
      ]
    },
    {
      "cell_type": "code",
      "source": [
        "nama = \"Nabila syafira\"\n",
        "print (\"Halo \" + nama)"
      ],
      "metadata": {
        "colab": {
          "base_uri": "https://localhost:8080/"
        },
        "id": "QpTaOVIQXOKY",
        "outputId": "ba7ed1fe-36cb-4c16-c1cf-a266e88cc6ba"
      },
      "execution_count": null,
      "outputs": [
        {
          "output_type": "stream",
          "name": "stdout",
          "text": [
            "Halo Nabila syafira\n"
          ]
        }
      ]
    },
    {
      "cell_type": "code",
      "source": [
        "umur = 14\n",
        "print(\"Umur saya\", umur, \"tahun\")"
      ],
      "metadata": {
        "colab": {
          "base_uri": "https://localhost:8080/"
        },
        "id": "GFWdIs6KXs2t",
        "outputId": "852e778c-83f4-4bc8-8586-c57e4e6cbf69"
      },
      "execution_count": null,
      "outputs": [
        {
          "output_type": "stream",
          "name": "stdout",
          "text": [
            "Umur saya 14 tahun\n"
          ]
        }
      ]
    },
    {
      "cell_type": "code",
      "source": [
        "pembagian = 10 /2\n",
        "print(pembagian)"
      ],
      "metadata": {
        "colab": {
          "base_uri": "https://localhost:8080/"
        },
        "id": "G6pf99HfX_PN",
        "outputId": "e6fa1acf-5510-4259-e972-8bc3ea8a6b15"
      },
      "execution_count": null,
      "outputs": [
        {
          "output_type": "stream",
          "name": "stdout",
          "text": [
            "5.0\n"
          ]
        }
      ]
    },
    {
      "cell_type": "code",
      "source": [
        "print (5 + 3)\n",
        "print (\"hasilnya adalah\", 5 * 4)"
      ],
      "metadata": {
        "colab": {
          "base_uri": "https://localhost:8080/"
        },
        "id": "uD0NJGm3YMR3",
        "outputId": "4c61ca05-d225-4ca4-d059-52239098eb0b"
      },
      "execution_count": null,
      "outputs": [
        {
          "output_type": "stream",
          "name": "stdout",
          "text": [
            "8\n",
            "hasilnya adalah 20\n"
          ]
        }
      ]
    },
    {
      "cell_type": "code",
      "source": [
        "print (\"Biodata:\\nNama:\\tNabila Syafira\\nUmur:\\t14 tahun\")\n",
        "print (\"Dia berkata: \\\"Saya suku Python! \\\"\")\n",
        "print (\"Folder: C:\\\\Program Files\\\\Python\")"
      ],
      "metadata": {
        "colab": {
          "base_uri": "https://localhost:8080/"
        },
        "id": "Z2gdux1FYmuf",
        "outputId": "67eced70-91ac-448c-a2b6-781490338fae"
      },
      "execution_count": null,
      "outputs": [
        {
          "output_type": "stream",
          "name": "stdout",
          "text": [
            "Biodata:\n",
            "Nama:\tNabila Syafira\n",
            "Umur:\t14 tahun\n",
            "Dia berkata: \"Saya suku Python! \"\n",
            "Folder: C:\\Program Files\\Python\n"
          ]
        }
      ]
    },
    {
      "cell_type": "code",
      "source": [
        "print (\"\"\"Halo, ini baris pertama.\n",
        "Ini baris kedua.\n",
        "Dan ini baris ketiga. \"\"\")"
      ],
      "metadata": {
        "colab": {
          "base_uri": "https://localhost:8080/"
        },
        "id": "3mExRaVMZjjJ",
        "outputId": "42db4b25-8e19-479c-9314-cd9d1524b6ff"
      },
      "execution_count": null,
      "outputs": [
        {
          "output_type": "stream",
          "name": "stdout",
          "text": [
            "Halo, ini baris pertama.\n",
            "Ini baris kedua. \n",
            "Dan ini baris ketiga. \n"
          ]
        }
      ]
    },
    {
      "cell_type": "code",
      "source": [
        "puisi = '''Matahari terbit di ufuk timur\n",
        "Menyapa bumi dengan hangat\n",
        "Hari baru, semangat baru'''\n",
        "print (puisi)"
      ],
      "metadata": {
        "colab": {
          "base_uri": "https://localhost:8080/"
        },
        "id": "PkB580m-Z0cz",
        "outputId": "2c63baa9-f3cd-4d03-dacc-58fca99a68a4"
      },
      "execution_count": null,
      "outputs": [
        {
          "output_type": "stream",
          "name": "stdout",
          "text": [
            "Matahari terbit di ufuk timur\n",
            "Menyapa bumi dengan hangat\n",
            "Hari baru, semangat baru\n"
          ]
        }
      ]
    },
    {
      "cell_type": "code",
      "source": [
        "print (\"Halo\\nSelamat Pagi\\nApa kabar? \")"
      ],
      "metadata": {
        "colab": {
          "base_uri": "https://localhost:8080/"
        },
        "id": "C4s6OFBHaIdM",
        "outputId": "262f846e-25fa-4c75-cd8f-60b682591dac"
      },
      "execution_count": null,
      "outputs": [
        {
          "output_type": "stream",
          "name": "stdout",
          "text": [
            "Halo\n",
            "Selamat Pagi\n",
            "Apa kabar? \n"
          ]
        }
      ]
    },
    {
      "cell_type": "code",
      "source": [
        "print(\"A\", \"B\", \"C\") # Deafult - spasi\n",
        "print(\"A\", \"B\", \"C\", sep=\"-\") # Separator - strip\n",
        "print (\"2025\", \"08\", \"11\", sep=\"/\") # Separator - tanda ’/'"
      ],
      "metadata": {
        "colab": {
          "base_uri": "https://localhost:8080/"
        },
        "id": "Sw0xG3q3cQLK",
        "outputId": "08a8f209-cea6-4f1f-dc57-49bafeb229cf"
      },
      "execution_count": null,
      "outputs": [
        {
          "output_type": "stream",
          "name": "stdout",
          "text": [
            "A B C\n",
            "A-B-C\n",
            "2025/08/11\n"
          ]
        }
      ]
    },
    {
      "cell_type": "code",
      "source": [
        "print(\"Hello\", end=\" \") # end = spasi\n",
        "print(\"WorldWorld\")\n",
        "\n",
        "print (\"A\", end=\"-\" # end=strip\n",
        "print (\"B\")"
      ],
      "metadata": {
        "colab": {
          "base_uri": "https://localhost:8080/",
          "height": 124
        },
        "id": "aZvegshpdF5q",
        "outputId": "563f7b62-c89b-4e33-f4a1-7e380ed3578d"
      },
      "execution_count": null,
      "outputs": [
        {
          "output_type": "error",
          "ename": "SyntaxError",
          "evalue": "'(' was never closed (ipython-input-1689589365.py, line 4)",
          "traceback": [
            "\u001b[0;36m  File \u001b[0;32m\"/tmp/ipython-input-1689589365.py\"\u001b[0;36m, line \u001b[0;32m4\u001b[0m\n\u001b[0;31m    print (\"A\", end=\"-\" # end=strip\u001b[0m\n\u001b[0m          ^\u001b[0m\n\u001b[0;31mSyntaxError\u001b[0m\u001b[0;31m:\u001b[0m '(' was never closed\n"
          ]
        }
      ]
    },
    {
      "cell_type": "code",
      "source": [
        "print (\"Python\", \"Java\", \" C++\", sep=\", \", end=\" <-- Selesai\\n\")"
      ],
      "metadata": {
        "colab": {
          "base_uri": "https://localhost:8080/"
        },
        "id": "ZiGhVvjseDLj",
        "outputId": "cb2a3d2c-0608-4419-dfd3-19b8c6b0832b"
      },
      "execution_count": null,
      "outputs": [
        {
          "output_type": "stream",
          "name": "stdout",
          "text": [
            "Python, Java,  C++ <-- Selesai\n"
          ]
        }
      ]
    },
    {
      "cell_type": "code",
      "source": [
        "harga_telur = 26000\n",
        "nama_pembeli = \"Nabila\"\n",
        "\n",
        "print(\"Harga telur adalah \", harga_telur, \" per kilogram \")\n",
        "print (\"Nama pembeli telur adalah\", nama_pembeli)"
      ],
      "metadata": {
        "colab": {
          "base_uri": "https://localhost:8080/"
        },
        "id": "sMpv0MkYOSr8",
        "outputId": "aeeeb21a-3a0e-4d9f-9489-1b2f8cfe10be"
      },
      "execution_count": null,
      "outputs": [
        {
          "output_type": "stream",
          "name": "stdout",
          "text": [
            "Harga telur adalah  26000  per kilogram \n",
            "Nama pembeli telur adalah Nabila\n"
          ]
        }
      ]
    },
    {
      "cell_type": "code",
      "source": [
        "print(\"Harga telur adalah \" + str (harga_telur) + \" per kilogram \")\n",
        "print (\"Nama pembeli telur adalah \" + nama_pembeli)"
      ],
      "metadata": {
        "colab": {
          "base_uri": "https://localhost:8080/"
        },
        "id": "8TS4Db67Pv6M",
        "outputId": "7c7f0be9-fb17-4510-9508-a418e13ecc9f"
      },
      "execution_count": null,
      "outputs": [
        {
          "output_type": "stream",
          "name": "stdout",
          "text": [
            "Harga telur adalah 26000 per kilogram \n",
            "Nama pembeli telur adalah Nabila\n"
          ]
        }
      ]
    },
    {
      "cell_type": "code",
      "source": [
        "print(f\"Harga telur adalah {harga_telur} per kilogram\")\n",
        "print (f\"Nama pembeli telur adalah {nama_pembeli}\")"
      ],
      "metadata": {
        "colab": {
          "base_uri": "https://localhost:8080/"
        },
        "id": "YqNUWKl_Rit5",
        "outputId": "cbdf4ced-6e14-4a4d-c410-3c87f74e1207"
      },
      "execution_count": null,
      "outputs": [
        {
          "output_type": "stream",
          "name": "stdout",
          "text": [
            "Harga telur adalah 26000 per kilogram\n",
            "Nama pembeli telur adalah Nabila\n"
          ]
        }
      ]
    },
    {
      "cell_type": "markdown",
      "source": [
        "#Escape Character"
      ],
      "metadata": {
        "id": "lCxcOZ5jVLcl"
      }
    },
    {
      "cell_type": "code",
      "source": [
        "print(\"Nama: Nabila syafira\")\n",
        "print(\"Kelas: X.7\")\n",
        "print(\"Nomor absen: 28\")"
      ],
      "metadata": {
        "colab": {
          "base_uri": "https://localhost:8080/"
        },
        "id": "ztZdPYwFVV9U",
        "outputId": "c0e9a932-02c3-463c-b58f-cdbea872df53"
      },
      "execution_count": null,
      "outputs": [
        {
          "output_type": "stream",
          "name": "stdout",
          "text": [
            "Nama: Nabila syafira\n",
            "Kelas: X.7\n",
            "Nomor absen: 28\n"
          ]
        }
      ]
    },
    {
      "cell_type": "code",
      "source": [
        "print(\"Nama\\t\\t: Nabila Syafira\\nKelas\\t\\t: X.7\\nNomor absen\\t: 28\")"
      ],
      "metadata": {
        "colab": {
          "base_uri": "https://localhost:8080/"
        },
        "id": "yWcqHDI4VrtR",
        "outputId": "5bb9de58-f87e-484b-9bcd-460e61b2f7c2"
      },
      "execution_count": null,
      "outputs": [
        {
          "output_type": "stream",
          "name": "stdout",
          "text": [
            "Nama\t\t: Nabila Syafira\n",
            "Kelas\t\t: X.7\n",
            "Nomor absen\t: 28\n"
          ]
        }
      ]
    },
    {
      "cell_type": "code",
      "source": [
        "print(\"\"\"Nama: Nabila syafira\n",
        "Kelas:X.7\n",
        "Nomor absen: 28\"\"\")"
      ],
      "metadata": {
        "colab": {
          "base_uri": "https://localhost:8080/"
        },
        "id": "S2nKx7JTWIaA",
        "outputId": "253ebc40-9d9d-49c6-b55f-25f81a8fe18e"
      },
      "execution_count": null,
      "outputs": [
        {
          "output_type": "stream",
          "name": "stdout",
          "text": [
            "Nama: Nabila syafira\n",
            "Kelas:X.7\n",
            "Nomor absen: 28\n"
          ]
        }
      ]
    },
    {
      "cell_type": "code",
      "source": [
        "print(\"Nama: Habib Jafar\")"
      ],
      "metadata": {
        "id": "RKMjlJRFQf8o",
        "colab": {
          "base_uri": "https://localhost:8080/"
        },
        "outputId": "65b477a1-0f52-40de-e4c2-8bd7c10b86bc"
      },
      "execution_count": null,
      "outputs": [
        {
          "output_type": "stream",
          "name": "stdout",
          "text": [
            "Nama: Habib Jafar\n"
          ]
        }
      ]
    },
    {
      "cell_type": "code",
      "source": [
        "print('Nama: Habib Jafar')"
      ],
      "metadata": {
        "colab": {
          "base_uri": "https://localhost:8080/"
        },
        "id": "b1TkpAk-Q9EY",
        "outputId": "595db170-8c8c-43d9-a8b8-3f71819a4e15"
      },
      "execution_count": null,
      "outputs": [
        {
          "output_type": "stream",
          "name": "stdout",
          "text": [
            "Nama: Habib Jafar\n"
          ]
        }
      ]
    },
    {
      "cell_type": "code",
      "source": [
        "print ('Nama: Habib Ja\\'far')"
      ],
      "metadata": {
        "colab": {
          "base_uri": "https://localhost:8080/"
        },
        "id": "2wVfePSzRB41",
        "outputId": "b288d707-c176-4784-8164-f6f9a6c2e6d2"
      },
      "execution_count": null,
      "outputs": [
        {
          "output_type": "stream",
          "name": "stdout",
          "text": [
            "Nama: Habib Ja'far\n"
          ]
        }
      ]
    },
    {
      "cell_type": "code",
      "source": [
        "print(\"Nama: Habib Ja'far\")"
      ],
      "metadata": {
        "colab": {
          "base_uri": "https://localhost:8080/"
        },
        "id": "qP7hiXi5RJU8",
        "outputId": "14d8a3ae-8447-48e3-939d-71a5cdea3e40"
      },
      "execution_count": null,
      "outputs": [
        {
          "output_type": "stream",
          "name": "stdout",
          "text": [
            "Nama: Habib Ja'far\n"
          ]
        }
      ]
    },
    {
      "cell_type": "code",
      "source": [
        "print(\"Bu Shinta berkata, \\\"Tenang fokus sejenak!\\\".\")"
      ],
      "metadata": {
        "colab": {
          "base_uri": "https://localhost:8080/"
        },
        "id": "IrEDBAf4RUUo",
        "outputId": "fffdab0e-0cac-4175-962e-ecd8ff047d07"
      },
      "execution_count": null,
      "outputs": [
        {
          "output_type": "stream",
          "name": "stdout",
          "text": [
            "Bu Shinta berkata, \"Tenang fokus sejenak!\".\n"
          ]
        }
      ]
    },
    {
      "cell_type": "code",
      "source": [
        "print('Bu Shinta berkata, \"Tenang fokus sejenak! \".')"
      ],
      "metadata": {
        "colab": {
          "base_uri": "https://localhost:8080/"
        },
        "id": "2usK1HH3ReQ4",
        "outputId": "93d7ec6d-318c-4fc8-d3b6-95167d2f50e2"
      },
      "execution_count": null,
      "outputs": [
        {
          "output_type": "stream",
          "name": "stdout",
          "text": [
            "Bu Shinta berkata, \"Tenang fokus sejenak! \".\n"
          ]
        }
      ]
    },
    {
      "cell_type": "code",
      "source": [
        "print(\"Lokasi penyimpanan tugas KKA ada di Local disk D:\\\\KKA\\\\Tugas\")"
      ],
      "metadata": {
        "colab": {
          "base_uri": "https://localhost:8080/"
        },
        "id": "Ce1GUIKzRmtL",
        "outputId": "a243e40e-9a1d-4ef8-a623-f4b33eed3957"
      },
      "execution_count": null,
      "outputs": [
        {
          "output_type": "stream",
          "name": "stdout",
          "text": [
            "Lokasi penyimpanan tugas KKA ada di Local disk D:\\KKA\\Tugas\n"
          ]
        }
      ]
    },
    {
      "cell_type": "markdown",
      "source": [
        "#Parameter Fungsi Print"
      ],
      "metadata": {
        "id": "RfHISaOWVuVi"
      }
    },
    {
      "cell_type": "code",
      "source": [
        "Tanggal = 15\n",
        "Bulan = \"Januari\"\n",
        "Tahun = 2011\n",
        "\n",
        "#15-Januari-2011\n",
        "print(Tanggal)\n",
        "print(Bulan)\n",
        "print(Tahun)"
      ],
      "metadata": {
        "colab": {
          "base_uri": "https://localhost:8080/"
        },
        "id": "lgXI2KrAVzBY",
        "outputId": "6c7e67cd-a8ba-4535-bafc-83b2ca153848"
      },
      "execution_count": null,
      "outputs": [
        {
          "output_type": "stream",
          "name": "stdout",
          "text": [
            "15\n",
            "Januari\n",
            "2011\n"
          ]
        }
      ]
    },
    {
      "cell_type": "code",
      "source": [
        "#15-Januari-2011\n",
        "print(Tanggal, Bulan, Tahun, sep=\"-\")"
      ],
      "metadata": {
        "colab": {
          "base_uri": "https://localhost:8080/"
        },
        "id": "l-9u9uUJWCA2",
        "outputId": "1090ca78-9c61-45cb-8683-02660bd0ceee"
      },
      "execution_count": null,
      "outputs": [
        {
          "output_type": "stream",
          "name": "stdout",
          "text": [
            "15-Januari-2011\n"
          ]
        }
      ]
    },
    {
      "cell_type": "code",
      "source": [
        "#15-Januari-2011\n",
        "print(Tanggal, end=\"-\")\n",
        "print(Bulan, end=\"-\")\n",
        "print(Tahun)"
      ],
      "metadata": {
        "colab": {
          "base_uri": "https://localhost:8080/"
        },
        "id": "P3RI_uhWWOhd",
        "outputId": "87c4b793-3013-41e3-cf6c-fe30cfb6ad0b"
      },
      "execution_count": null,
      "outputs": [
        {
          "output_type": "stream",
          "name": "stdout",
          "text": [
            "15-Januari-2011\n"
          ]
        }
      ]
    }
  ]
}